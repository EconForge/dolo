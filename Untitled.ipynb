{
 "cells": [
  {
   "cell_type": "markdown",
   "metadata": {},
   "source": [
    "# Some notes about recent dolo development"
   ]
  },
  {
   "cell_type": "markdown",
   "metadata": {},
   "source": [
    "## Toolchain\n",
    "\n",
    "- build tool: `poetry`\n",
    "    - simplifies dependency management\n",
    "    - `setup.py` disappeared\n",
    "    - `pyproject.toml`\n",
    "    - install `poetry` then `pip install .`\n",
    "- tag-based releases:\n",
    "    - automatic release on pypi when tag is pushed to master\n",
    "    - semi-automatic release from pypi to conda\n",
    "- documentation switch to github/actions + mkdocs:\n",
    "    - old: `www.econforge.org/dolo`\n",
    "    - new: `www.econforge.org/dolo.py`\n",
    "    - built and published on tag-release\n",
    "- advertisement: try `mamba` instead of `conda` !"
   ]
  },
  {
   "cell_type": "markdown",
   "metadata": {},
   "source": [
    "## Development choices\n",
    "\n",
    "\n",
    "- semi-object oriented programming:\n",
    "    - type hierarchy\n",
    "    - mostly stateless design\n",
    "        - most objects are simple datastructures with simple internal state\n",
    "- multiple dispatch\n",
    "- use optional typing:\n",
    "    - mostly for documentation\n",
    "    - almost completely useless at runtime\n",
    "- performance\n",
    "    - numba-ification out of reach (no @jitclass) but...\n",
    "    - some objects have a typed numba equivalent"
   ]
  },
  {
   "cell_type": "markdown",
   "metadata": {},
   "source": [
    "### Numbaification"
   ]
  },
  {
   "cell_type": "code",
   "execution_count": 45,
   "metadata": {},
   "outputs": [
    {
     "data": {
      "text/plain": [
       "<dolo.numeric.grids.UniformCartesianGrid at 0x7fb64c3f92d0>"
      ]
     },
     "metadata": {},
     "output_type": "display_data"
    },
    {
     "data": {
      "text/plain": [
       "((0.0, 1.0, 10), (0.0, 1.0, 10))"
      ]
     },
     "metadata": {},
     "output_type": "display_data"
    }
   ],
   "source": [
    "# numba-ification\n",
    "from dolo.numeric.grids import UniformCartesianGrid, NonUniformCartesianGrid\n",
    "grid = UniformCartesianGrid(min=[0.0, 0.0], max=[1.0, 1.0], n=[10, 10])\n",
    "display(grid)\n",
    "display(grid.__numba_repr__())   # fully type inferrable by numba / interpolation.py"
   ]
  },
  {
   "cell_type": "code",
   "execution_count": 47,
   "metadata": {},
   "outputs": [
    {
     "data": {
      "text/plain": [
       "UniTuple(Tuple(float64, float64, int64) x 2)"
      ]
     },
     "execution_count": 47,
     "metadata": {},
     "output_type": "execute_result"
    }
   ],
   "source": [
    "import numba\n",
    "numba.typeof(grid.__numba_repr__())"
   ]
  },
  {
   "cell_type": "code",
   "execution_count": 52,
   "metadata": {},
   "outputs": [
    {
     "data": {
      "text/plain": [
       "UniTuple(array(float64, 1d, C) x 2)"
      ]
     },
     "execution_count": 52,
     "metadata": {},
     "output_type": "execute_result"
    }
   ],
   "source": [
    "import numpy as np\n",
    "grid = NonUniformCartesianGrid([np.linspace(0,1,10), np.linspace(0,1,10)])\n",
    "numba.typeof( grid.__numba_repr__() )"
   ]
  },
  {
   "cell_type": "markdown",
   "metadata": {},
   "source": [
    "### Stateless / Statefree"
   ]
  },
  {
   "cell_type": "code",
   "execution_count": null,
   "metadata": {},
   "outputs": [],
   "source": [
    "# problem 1\n",
    "\n",
    "class Model:\n",
    "    \n",
    "    def __init__(self, a=1, b=2):\n",
    "        self.a = a\n",
    "        self.b = b\n",
    "        \n",
    "    def solve(self):\n",
    "        return self.a + self.b\n",
    "        \n",
    "        \n",
    "d = dict(a=1, b=2.5)\n",
    "model = Model(**d)\n",
    "model.solve() # -> 3.4\n",
    "\n",
    "d['a'] = 1.5 # bad student\n",
    "model.solve() # -> I paid for this school, why don't I get 4.0 ?\n",
    "\n",
    "# solutions:\n",
    "\n",
    "# - terminate student\n",
    "\n",
    "# - promote no reference style of coding:\n",
    "\n",
    "m = Model()\n",
    "m.a = 1\n",
    "m.b = 2\n",
    "\n",
    "# - educate by providing feedback when parameter is set (see below)"
   ]
  },
  {
   "cell_type": "code",
   "execution_count": null,
   "metadata": {},
   "outputs": [],
   "source": [
    "class Model:\n",
    "    \n",
    "    def __init__(self, a=1)\n",
    "        self.a\n",
    "    \n",
    "    def update():\n",
    "        self.b = self.a+1\n",
    "        \n",
    "    def solve():\n",
    "        returb self.a+self.b\n",
    "\n",
    "model = Model()\n",
    "model.update()  # bad design\n",
    "model.solve()"
   ]
  },
  {
   "cell_type": "code",
   "execution_count": 10,
   "metadata": {},
   "outputs": [
    {
     "data": {
      "text/plain": [
       "((0.0, 1.0, 10), (0.0, 1.0, 10))"
      ]
     },
     "execution_count": 10,
     "metadata": {},
     "output_type": "execute_result"
    }
   ],
   "source": [
    "# stateless / stateful\n",
    "\n",
    "class Model:\n",
    "    \n",
    "    a = 1\n",
    "    \n",
    "    def update():\n",
    "        self.b = self.a+1\n",
    "        \n",
    "    def solve():\n",
    "        returb self.a+self.b\n",
    "\n",
    "model = Model()\n",
    "model.update()\n",
    "model.solve()\n",
    "\n",
    "model.a = 2\n",
    "# model.update()  # bad design\n",
    "model.solve()"
   ]
  },
  {
   "cell_type": "markdown",
   "metadata": {},
   "source": [
    "two tools to improve the situation:\n",
    "- user-experience:\n",
    "    - properties\n",
    "- developper experience:\n",
    "    - decorators / annotations\n",
    "    - traits"
   ]
  },
  {
   "cell_type": "code",
   "execution_count": null,
   "metadata": {},
   "outputs": [],
   "source": [
    "class Model:\n",
    "    \n",
    "    @property\n",
    "    def a():\n",
    "        return self._a_\n",
    "    \n",
    "    @a.setter\n",
    "    def a(self, value):\n",
    "        print(f\"Parameter 'a' set to {value}\") # for the bad student\n",
    "        self._a_ = value\n",
    "        self.update()\n",
    "        \n",
    "    def update():\n",
    "        self.b = self.a+1\n",
    "        \n",
    "    def solve():\n",
    "        returb self.a + self.b\n",
    "\n",
    "model = Model()\n",
    "model.a = 2 # triggers update()\n",
    "model.solve() # -> 3\n",
    "\n",
    "## ok but requires lots of recalculations with many parameters"
   ]
  },
  {
   "cell_type": "code",
   "execution_count": null,
   "metadata": {},
   "outputs": [],
   "source": []
  },
  {
   "cell_type": "code",
   "execution_count": null,
   "metadata": {},
   "outputs": [],
   "source": [
    "# better solution with global flag\n",
    "\n",
    "class Model:\n",
    "        \n",
    "    __parameters_reset__ = True\n",
    "    \n",
    "    @property\n",
    "    def a():\n",
    "        return self._a_\n",
    "    \n",
    "    @a.setter\n",
    "    def a(self, value):\n",
    "        print(f\"Parameter 'a' set to {value}\") # for the bad student\n",
    "        self._a_ = value\n",
    "        self.update()\n",
    "        \n",
    "    @property\n",
    "    def b():\n",
    "        return self._b_\n",
    "    \n",
    "    @a.setter\n",
    "    def b(self, value):\n",
    "        print(f\"Parameter 'b' set to {value}\") # for the bad student\n",
    "        self._b_ = value\n",
    "        self.update()\n",
    "        \n",
    "    def update():\n",
    "        if __parameters_reset__:\n",
    "            self.c = self.a+1\n",
    "            __parameters_reset__ = False\n",
    "        \n",
    "    def solve():\n",
    "        returb self.a + self.b\n",
    "\n",
    "model = Model()\n",
    "model.a = 2 # triggers update()\n",
    "model.solve() # -> 3"
   ]
  },
  {
   "cell_type": "code",
   "execution_count": 23,
   "metadata": {},
   "outputs": [
    {
     "ename": "NameError",
     "evalue": "name 'magiclass' is not defined",
     "output_type": "error",
     "traceback": [
      "\u001b[0;31m---------------------------------------------------------------------------\u001b[0m",
      "\u001b[0;31mNameError\u001b[0m                                 Traceback (most recent call last)",
      "\u001b[0;32m<ipython-input-23-7cb212abb298>\u001b[0m in \u001b[0;36m<module>\u001b[0;34m\u001b[0m\n\u001b[1;32m      3\u001b[0m \u001b[0;31m# better solution with global flag\u001b[0m\u001b[0;34m\u001b[0m\u001b[0;34m\u001b[0m\u001b[0;34m\u001b[0m\u001b[0m\n\u001b[1;32m      4\u001b[0m \u001b[0;34m\u001b[0m\u001b[0m\n\u001b[0;32m----> 5\u001b[0;31m \u001b[0;34m@\u001b[0m\u001b[0mmagiclass\u001b[0m\u001b[0;34m\u001b[0m\u001b[0;34m\u001b[0m\u001b[0m\n\u001b[0m\u001b[1;32m      6\u001b[0m \u001b[0;32mclass\u001b[0m \u001b[0mModel\u001b[0m\u001b[0;34m:\u001b[0m\u001b[0;34m\u001b[0m\u001b[0;34m\u001b[0m\u001b[0m\n\u001b[1;32m      7\u001b[0m \u001b[0;34m\u001b[0m\u001b[0m\n",
      "\u001b[0;31mNameError\u001b[0m: name 'magiclass' is not defined"
     ]
    }
   ],
   "source": [
    "# same code with traits: (many possible syntaxes)\n",
    "\n",
    "# better solution with global flag\n",
    "\n",
    "@magiclass\n",
    "class Model:\n",
    "        \n",
    "    a: Parameter[Float]    \n",
    "    b: Parameter[Float]\n",
    "\n",
    "    @depends(['a', 'b'])\n",
    "    def update():\n",
    "        if __parameters_reset__:\n",
    "            self.c = self.a+1\n",
    "            __parameters_reset__ = False\n",
    "        \n",
    "    @depends(['update'])\n",
    "    def solve():\n",
    "        return self.a + self.b\n",
    "\n",
    "        \n",
    "model = Model()\n",
    "model.a = 2.0  # resets `self.__reset__['update']` and `self.__reset__['solve']` to True\n",
    "model.b = 2.0  # same\n",
    "model.solve()  # will need to recompute update(), which in turn, will take new values of a and b"
   ]
  },
  {
   "cell_type": "code",
   "execution_count": null,
   "metadata": {},
   "outputs": [],
   "source": [
    "# other approach\n",
    "\n",
    "class MagicalDict:\n",
    "    \n",
    "    dependencies: Dict[]\n",
    "    def __init__(self, model):\n",
    "        self.model = model\n",
    "    \n",
    "    def __setitem__(self, k, v):\n",
    "        pass #\n",
    "\n",
    "    \n",
    "    \n",
    "\n",
    "class Model\n",
    "\n",
    "    calibration: MagicalDict\n",
    "        \n",
    "model = Model()\n",
    "model.calibration['a'] = 1 # same behaviour"
   ]
  },
  {
   "cell_type": "markdown",
   "metadata": {},
   "source": [
    "### Stateless approach in dolo"
   ]
  },
  {
   "cell_type": "code",
   "execution_count": 53,
   "metadata": {},
   "outputs": [
    {
     "data": {
      "text/html": [
       "<div><svg style=\"position: absolute; width: 0; height: 0; overflow: hidden\">\n",
       "<defs>\n",
       "<symbol id=\"icon-database\" viewBox=\"0 0 32 32\">\n",
       "<title>Show/Hide data repr</title>\n",
       "<path d=\"M16 0c-8.837 0-16 2.239-16 5v4c0 2.761 7.163 5 16 5s16-2.239 16-5v-4c0-2.761-7.163-5-16-5z\"></path>\n",
       "<path d=\"M16 17c-8.837 0-16-2.239-16-5v6c0 2.761 7.163 5 16 5s16-2.239 16-5v-6c0 2.761-7.163 5-16 5z\"></path>\n",
       "<path d=\"M16 26c-8.837 0-16-2.239-16-5v6c0 2.761 7.163 5 16 5s16-2.239 16-5v-6c0 2.761-7.163 5-16 5z\"></path>\n",
       "</symbol>\n",
       "<symbol id=\"icon-file-text2\" viewBox=\"0 0 32 32\">\n",
       "<title>Show/Hide attributes</title>\n",
       "<path d=\"M28.681 7.159c-0.694-0.947-1.662-2.053-2.724-3.116s-2.169-2.030-3.116-2.724c-1.612-1.182-2.393-1.319-2.841-1.319h-15.5c-1.378 0-2.5 1.121-2.5 2.5v27c0 1.378 1.122 2.5 2.5 2.5h23c1.378 0 2.5-1.122 2.5-2.5v-19.5c0-0.448-0.137-1.23-1.319-2.841zM24.543 5.457c0.959 0.959 1.712 1.825 2.268 2.543h-4.811v-4.811c0.718 0.556 1.584 1.309 2.543 2.268zM28 29.5c0 0.271-0.229 0.5-0.5 0.5h-23c-0.271 0-0.5-0.229-0.5-0.5v-27c0-0.271 0.229-0.5 0.5-0.5 0 0 15.499-0 15.5 0v7c0 0.552 0.448 1 1 1h7v19.5z\"></path>\n",
       "<path d=\"M23 26h-14c-0.552 0-1-0.448-1-1s0.448-1 1-1h14c0.552 0 1 0.448 1 1s-0.448 1-1 1z\"></path>\n",
       "<path d=\"M23 22h-14c-0.552 0-1-0.448-1-1s0.448-1 1-1h14c0.552 0 1 0.448 1 1s-0.448 1-1 1z\"></path>\n",
       "<path d=\"M23 18h-14c-0.552 0-1-0.448-1-1s0.448-1 1-1h14c0.552 0 1 0.448 1 1s-0.448 1-1 1z\"></path>\n",
       "</symbol>\n",
       "</defs>\n",
       "</svg>\n",
       "<style>/* CSS stylesheet for displaying xarray objects in jupyterlab.\n",
       " *\n",
       " */\n",
       "\n",
       ":root {\n",
       "  --xr-font-color0: var(--jp-content-font-color0, rgba(0, 0, 0, 1));\n",
       "  --xr-font-color2: var(--jp-content-font-color2, rgba(0, 0, 0, 0.54));\n",
       "  --xr-font-color3: var(--jp-content-font-color3, rgba(0, 0, 0, 0.38));\n",
       "  --xr-border-color: var(--jp-border-color2, #e0e0e0);\n",
       "  --xr-disabled-color: var(--jp-layout-color3, #bdbdbd);\n",
       "  --xr-background-color: var(--jp-layout-color0, white);\n",
       "  --xr-background-color-row-even: var(--jp-layout-color1, white);\n",
       "  --xr-background-color-row-odd: var(--jp-layout-color2, #eeeeee);\n",
       "}\n",
       "\n",
       ".xr-wrap {\n",
       "  min-width: 300px;\n",
       "  max-width: 700px;\n",
       "}\n",
       "\n",
       ".xr-header {\n",
       "  padding-top: 6px;\n",
       "  padding-bottom: 6px;\n",
       "  margin-bottom: 4px;\n",
       "  border-bottom: solid 1px var(--xr-border-color);\n",
       "}\n",
       "\n",
       ".xr-header > div,\n",
       ".xr-header > ul {\n",
       "  display: inline;\n",
       "  margin-top: 0;\n",
       "  margin-bottom: 0;\n",
       "}\n",
       "\n",
       ".xr-obj-type,\n",
       ".xr-array-name {\n",
       "  margin-left: 2px;\n",
       "  margin-right: 10px;\n",
       "}\n",
       "\n",
       ".xr-obj-type {\n",
       "  color: var(--xr-font-color2);\n",
       "}\n",
       "\n",
       ".xr-sections {\n",
       "  padding-left: 0 !important;\n",
       "  display: grid;\n",
       "  grid-template-columns: 150px auto auto 1fr 20px 20px;\n",
       "}\n",
       "\n",
       ".xr-section-item {\n",
       "  display: contents;\n",
       "}\n",
       "\n",
       ".xr-section-item input {\n",
       "  display: none;\n",
       "}\n",
       "\n",
       ".xr-section-item input + label {\n",
       "  color: var(--xr-disabled-color);\n",
       "}\n",
       "\n",
       ".xr-section-item input:enabled + label {\n",
       "  cursor: pointer;\n",
       "  color: var(--xr-font-color2);\n",
       "}\n",
       "\n",
       ".xr-section-item input:enabled + label:hover {\n",
       "  color: var(--xr-font-color0);\n",
       "}\n",
       "\n",
       ".xr-section-summary {\n",
       "  grid-column: 1;\n",
       "  color: var(--xr-font-color2);\n",
       "  font-weight: 500;\n",
       "}\n",
       "\n",
       ".xr-section-summary > span {\n",
       "  display: inline-block;\n",
       "  padding-left: 0.5em;\n",
       "}\n",
       "\n",
       ".xr-section-summary-in:disabled + label {\n",
       "  color: var(--xr-font-color2);\n",
       "}\n",
       "\n",
       ".xr-section-summary-in + label:before {\n",
       "  display: inline-block;\n",
       "  content: '►';\n",
       "  font-size: 11px;\n",
       "  width: 15px;\n",
       "  text-align: center;\n",
       "}\n",
       "\n",
       ".xr-section-summary-in:disabled + label:before {\n",
       "  color: var(--xr-disabled-color);\n",
       "}\n",
       "\n",
       ".xr-section-summary-in:checked + label:before {\n",
       "  content: '▼';\n",
       "}\n",
       "\n",
       ".xr-section-summary-in:checked + label > span {\n",
       "  display: none;\n",
       "}\n",
       "\n",
       ".xr-section-summary,\n",
       ".xr-section-inline-details {\n",
       "  padding-top: 4px;\n",
       "  padding-bottom: 4px;\n",
       "}\n",
       "\n",
       ".xr-section-inline-details {\n",
       "  grid-column: 2 / -1;\n",
       "}\n",
       "\n",
       ".xr-section-details {\n",
       "  display: none;\n",
       "  grid-column: 1 / -1;\n",
       "  margin-bottom: 5px;\n",
       "}\n",
       "\n",
       ".xr-section-summary-in:checked ~ .xr-section-details {\n",
       "  display: contents;\n",
       "}\n",
       "\n",
       ".xr-array-wrap {\n",
       "  grid-column: 1 / -1;\n",
       "  display: grid;\n",
       "  grid-template-columns: 20px auto;\n",
       "}\n",
       "\n",
       ".xr-array-wrap > label {\n",
       "  grid-column: 1;\n",
       "  vertical-align: top;\n",
       "}\n",
       "\n",
       ".xr-preview {\n",
       "  color: var(--xr-font-color3);\n",
       "}\n",
       "\n",
       ".xr-array-preview,\n",
       ".xr-array-data {\n",
       "  padding: 0 5px !important;\n",
       "  grid-column: 2;\n",
       "}\n",
       "\n",
       ".xr-array-data,\n",
       ".xr-array-in:checked ~ .xr-array-preview {\n",
       "  display: none;\n",
       "}\n",
       "\n",
       ".xr-array-in:checked ~ .xr-array-data,\n",
       ".xr-array-preview {\n",
       "  display: inline-block;\n",
       "}\n",
       "\n",
       ".xr-dim-list {\n",
       "  display: inline-block !important;\n",
       "  list-style: none;\n",
       "  padding: 0 !important;\n",
       "  margin: 0;\n",
       "}\n",
       "\n",
       ".xr-dim-list li {\n",
       "  display: inline-block;\n",
       "  padding: 0;\n",
       "  margin: 0;\n",
       "}\n",
       "\n",
       ".xr-dim-list:before {\n",
       "  content: '(';\n",
       "}\n",
       "\n",
       ".xr-dim-list:after {\n",
       "  content: ')';\n",
       "}\n",
       "\n",
       ".xr-dim-list li:not(:last-child):after {\n",
       "  content: ',';\n",
       "  padding-right: 5px;\n",
       "}\n",
       "\n",
       ".xr-has-index {\n",
       "  font-weight: bold;\n",
       "}\n",
       "\n",
       ".xr-var-list,\n",
       ".xr-var-item {\n",
       "  display: contents;\n",
       "}\n",
       "\n",
       ".xr-var-item > div,\n",
       ".xr-var-item label,\n",
       ".xr-var-item > .xr-var-name span {\n",
       "  background-color: var(--xr-background-color-row-even);\n",
       "  margin-bottom: 0;\n",
       "}\n",
       "\n",
       ".xr-var-item > .xr-var-name:hover span {\n",
       "  padding-right: 5px;\n",
       "}\n",
       "\n",
       ".xr-var-list > li:nth-child(odd) > div,\n",
       ".xr-var-list > li:nth-child(odd) > label,\n",
       ".xr-var-list > li:nth-child(odd) > .xr-var-name span {\n",
       "  background-color: var(--xr-background-color-row-odd);\n",
       "}\n",
       "\n",
       ".xr-var-name {\n",
       "  grid-column: 1;\n",
       "}\n",
       "\n",
       ".xr-var-dims {\n",
       "  grid-column: 2;\n",
       "}\n",
       "\n",
       ".xr-var-dtype {\n",
       "  grid-column: 3;\n",
       "  text-align: right;\n",
       "  color: var(--xr-font-color2);\n",
       "}\n",
       "\n",
       ".xr-var-preview {\n",
       "  grid-column: 4;\n",
       "}\n",
       "\n",
       ".xr-var-name,\n",
       ".xr-var-dims,\n",
       ".xr-var-dtype,\n",
       ".xr-preview,\n",
       ".xr-attrs dt {\n",
       "  white-space: nowrap;\n",
       "  overflow: hidden;\n",
       "  text-overflow: ellipsis;\n",
       "  padding-right: 10px;\n",
       "}\n",
       "\n",
       ".xr-var-name:hover,\n",
       ".xr-var-dims:hover,\n",
       ".xr-var-dtype:hover,\n",
       ".xr-attrs dt:hover {\n",
       "  overflow: visible;\n",
       "  width: auto;\n",
       "  z-index: 1;\n",
       "}\n",
       "\n",
       ".xr-var-attrs,\n",
       ".xr-var-data {\n",
       "  display: none;\n",
       "  background-color: var(--xr-background-color) !important;\n",
       "  padding-bottom: 5px !important;\n",
       "}\n",
       "\n",
       ".xr-var-attrs-in:checked ~ .xr-var-attrs,\n",
       ".xr-var-data-in:checked ~ .xr-var-data {\n",
       "  display: block;\n",
       "}\n",
       "\n",
       ".xr-var-data > table {\n",
       "  float: right;\n",
       "}\n",
       "\n",
       ".xr-var-name span,\n",
       ".xr-var-data,\n",
       ".xr-attrs {\n",
       "  padding-left: 25px !important;\n",
       "}\n",
       "\n",
       ".xr-attrs,\n",
       ".xr-var-attrs,\n",
       ".xr-var-data {\n",
       "  grid-column: 1 / -1;\n",
       "}\n",
       "\n",
       "dl.xr-attrs {\n",
       "  padding: 0;\n",
       "  margin: 0;\n",
       "  display: grid;\n",
       "  grid-template-columns: 125px auto;\n",
       "}\n",
       "\n",
       ".xr-attrs dt, dd {\n",
       "  padding: 0;\n",
       "  margin: 0;\n",
       "  float: left;\n",
       "  padding-right: 10px;\n",
       "  width: auto;\n",
       "}\n",
       "\n",
       ".xr-attrs dt {\n",
       "  font-weight: normal;\n",
       "  grid-column: 1;\n",
       "}\n",
       "\n",
       ".xr-attrs dt:hover span {\n",
       "  display: inline-block;\n",
       "  background: var(--xr-background-color);\n",
       "  padding-right: 10px;\n",
       "}\n",
       "\n",
       ".xr-attrs dd {\n",
       "  grid-column: 2;\n",
       "  white-space: pre-wrap;\n",
       "  word-break: break-all;\n",
       "}\n",
       "\n",
       ".xr-icon-database,\n",
       ".xr-icon-file-text2 {\n",
       "  display: inline-block;\n",
       "  vertical-align: middle;\n",
       "  width: 1em;\n",
       "  height: 1.5em !important;\n",
       "  stroke-width: 0;\n",
       "  stroke: currentColor;\n",
       "  fill: currentColor;\n",
       "}\n",
       "</style><div class='xr-wrap'><div class='xr-header'><div class='xr-obj-type'>xarray.DataArray</div><div class='xr-array-name'></div><ul class='xr-dim-list'><li><span class='xr-has-index'>T</span>: 40</li><li><span class='xr-has-index'>N</span>: 10</li><li><span class='xr-has-index'>V</span>: 9</li></ul></div><ul class='xr-sections'><li class='xr-section-item'><div class='xr-array-wrap'><input id='section-7f9eed56-112d-48d1-91d4-b649e0f33e7a' class='xr-array-in' type='checkbox' ><label for='section-7f9eed56-112d-48d1-91d4-b649e0f33e7a' title='Show/hide data repr'><svg class='icon xr-icon-database'><use xlink:href='#icon-database'></use></svg></label><div class='xr-array-preview xr-preview'><span>0.0 0.0 9.355 0.3296 0.2329 ... 0.2355 0.9913 0.7559 0.03638 1.982</span></div><pre class='xr-array-data'>array([[[ 0.00000000e+00,  0.00000000e+00,  9.35497829e+00, ...,\n",
       "          7.61398778e-01,  3.50741693e-02,  2.02103089e+00],\n",
       "        [ 2.16900189e-02,  0.00000000e+00,  9.35497829e+00, ...,\n",
       "          7.61398778e-01,  3.50741693e-02,  2.02103089e+00],\n",
       "        [ 0.00000000e+00,  0.00000000e+00,  9.35497829e+00, ...,\n",
       "          7.61398778e-01,  3.50741693e-02,  2.02103089e+00],\n",
       "        ...,\n",
       "        [ 2.16900189e-02,  0.00000000e+00,  9.35497829e+00, ...,\n",
       "          7.61398778e-01,  3.50741693e-02,  2.02103089e+00],\n",
       "        [ 0.00000000e+00,  0.00000000e+00,  9.35497829e+00, ...,\n",
       "          7.61398778e-01,  3.50741693e-02,  2.02103089e+00],\n",
       "        [ 0.00000000e+00,  0.00000000e+00,  9.35497829e+00, ...,\n",
       "          7.61398778e-01,  3.50741693e-02,  2.02103089e+00]],\n",
       "\n",
       "       [[-2.16900189e-02,  0.00000000e+00,  9.35400230e+00, ...,\n",
       "          7.61384391e-01,  3.50776803e-02,  2.02093125e+00],\n",
       "        [ 2.16900189e-02,  2.16900189e-02,  9.35400230e+00, ...,\n",
       "          7.62822957e-01,  3.60682624e-02,  2.05898938e+00],\n",
       "        [ 2.16900189e-02,  0.00000000e+00,  9.35400230e+00, ...,\n",
       "          7.61384391e-01,  3.50776803e-02,  2.02093125e+00],\n",
       "        ...,\n",
       "        [ 0.00000000e+00,  2.16900189e-02,  9.35400230e+00, ...,\n",
       "          7.62822957e-01,  3.60682624e-02,  2.05898938e+00],\n",
       "        [ 0.00000000e+00,  0.00000000e+00,  9.35400230e+00, ...,\n",
       "          7.61384391e-01,  3.50776803e-02,  2.02093125e+00],\n",
       "        [ 0.00000000e+00,  0.00000000e+00,  9.35400230e+00, ...,\n",
       "          7.61384391e-01,  3.50776803e-02,  2.02093125e+00]],\n",
       "\n",
       "       [[ 0.00000000e+00, -2.16900189e-02,  9.35306089e+00, ...,\n",
       "          7.59958581e-01,  3.41148441e-02,  1.98356112e+00],\n",
       "        [-2.16900189e-02,  3.90420340e-02,  9.37970083e+00, ...,\n",
       "          7.64374529e-01,  3.67820030e-02,  2.09271518e+00],\n",
       "        [ 0.00000000e+00,  2.16900189e-02,  9.35306089e+00, ...,\n",
       "          7.62809192e-01,  3.60717286e-02,  2.05889192e+00],\n",
       "        ...,\n",
       "        [ 0.00000000e+00,  1.73520151e-02,  9.37970083e+00, ...,\n",
       "          7.62909791e-01,  3.57742049e-02,  2.05396620e+00],\n",
       "        [ 0.00000000e+00,  0.00000000e+00,  9.35306089e+00, ...,\n",
       "          7.61370512e-01,  3.50810677e-02,  2.02083514e+00],\n",
       "        [-2.16900189e-02,  0.00000000e+00,  9.35306089e+00, ...,\n",
       "          7.61370512e-01,  3.50810677e-02,  2.02083514e+00]],\n",
       "\n",
       "       ...,\n",
       "\n",
       "       [[-2.16900189e-02, -1.07439022e-03,  9.61420916e+00, ...,\n",
       "          7.65100181e-01,  3.41202851e-02,  2.04538252e+00],\n",
       "        [-2.16900189e-02,  1.40518882e-02,  9.34551078e+00, ...,\n",
       "          7.62189721e-01,  3.57475889e-02,  2.04462352e+00],\n",
       "        [-2.16900189e-02, -2.45856318e-02,  9.27466543e+00, ...,\n",
       "          7.58599962e-01,  3.42649707e-02,  1.97074028e+00],\n",
       "        ...,\n",
       "        [-2.16900189e-02, -3.32566969e-03,  9.07518640e+00, ...,\n",
       "          7.56987961e-01,  3.59598257e-02,  1.98647444e+00],\n",
       "        [ 2.16900189e-02, -4.46909134e-03,  9.14991498e+00, ...,\n",
       "          7.58044345e-01,  3.56244995e-02,  1.99225926e+00],\n",
       "        [ 0.00000000e+00, -3.56943011e-02,  9.04737363e+00, ...,\n",
       "          7.54422827e-01,  3.45998302e-02,  1.92907212e+00]],\n",
       "\n",
       "       [[-2.16900189e-02, -2.25495311e-02,  9.60281302e+00, ...,\n",
       "          7.63568665e-01,  3.32232268e-02,  2.00702789e+00],\n",
       "        [ 0.00000000e+00, -1.04485083e-02,  9.36204534e+00, ...,\n",
       "          7.60820733e-01,  3.45806083e-02,  2.00369527e+00],\n",
       "        [ 0.00000000e+00, -4.13585243e-02,  9.24721744e+00, ...,\n",
       "          7.57116396e-01,  3.36272937e-02,  1.93988298e+00],\n",
       "        ...,\n",
       "        [-2.16900189e-02, -2.43505546e-02,  9.08023430e+00, ...,\n",
       "          7.55667124e-01,  3.49847249e-02,  1.95134965e+00],\n",
       "        [ 0.00000000e+00,  1.81147458e-02,  9.15088379e+00, ...,\n",
       "          7.59578184e-01,  3.66655795e-02,  2.03152971e+00],\n",
       "        [ 2.16900189e-02, -2.85554409e-02,  9.01536523e+00, ...,\n",
       "          7.54392233e-01,  3.50390162e-02,  1.93766096e+00]],\n",
       "\n",
       "       [[ 4.57115202e-02, -3.97296437e-02,  9.56595110e+00, ...,\n",
       "          7.61963572e-01,  3.26114858e-02,  1.97420672e+00],\n",
       "        [ 0.00000000e+00, -8.35880664e-03,  9.34821961e+00, ...,\n",
       "          7.60752155e-01,  3.47230841e-02,  2.00588815e+00],\n",
       "        [ 0.00000000e+00, -3.30868194e-02,  9.20122029e+00, ...,\n",
       "          7.56944271e-01,  3.41533438e-02,  1.94902275e+00],\n",
       "        ...,\n",
       "        [ 0.00000000e+00, -4.11704626e-02,  9.06019616e+00, ...,\n",
       "          7.54268583e-01,  3.43090827e-02,  1.92133853e+00],\n",
       "        [ 0.00000000e+00,  1.44917966e-02,  9.17926823e+00, ...,\n",
       "          7.59757658e-01,  3.63878793e-02,  2.02815454e+00],\n",
       "        [ 0.00000000e+00, -1.15433383e-03,  8.99282986e+00, ...,\n",
       "          7.55875214e-01,  3.63784208e-02,  1.98159464e+00]]])</pre></div></li><li class='xr-section-item'><input id='section-47825f40-8a31-4e3d-a5d2-6aa60854d308' class='xr-section-summary-in' type='checkbox'  checked><label for='section-47825f40-8a31-4e3d-a5d2-6aa60854d308' class='xr-section-summary' >Coordinates: <span>(3)</span></label><div class='xr-section-inline-details'></div><div class='xr-section-details'><ul class='xr-var-list'><li class='xr-var-item'><div class='xr-var-name'><span class='xr-has-index'>T</span></div><div class='xr-var-dims'>(T)</div><div class='xr-var-dtype'>int64</div><div class='xr-var-preview xr-preview'>0 1 2 3 4 5 6 ... 34 35 36 37 38 39</div><input id='attrs-eb05eefc-28cb-4e25-970f-084e1c28ad04' class='xr-var-attrs-in' type='checkbox' disabled><label for='attrs-eb05eefc-28cb-4e25-970f-084e1c28ad04' title='Show/Hide attributes'><svg class='icon xr-icon-file-text2'><use xlink:href='#icon-file-text2'></use></svg></label><input id='data-2854b0fa-f9f0-44a2-890a-3a6a92f5cbe9' class='xr-var-data-in' type='checkbox'><label for='data-2854b0fa-f9f0-44a2-890a-3a6a92f5cbe9' title='Show/Hide data repr'><svg class='icon xr-icon-database'><use xlink:href='#icon-database'></use></svg></label><div class='xr-var-attrs'><dl class='xr-attrs'></dl></div><pre class='xr-var-data'>array([ 0,  1,  2,  3,  4,  5,  6,  7,  8,  9, 10, 11, 12, 13, 14, 15, 16, 17,\n",
       "       18, 19, 20, 21, 22, 23, 24, 25, 26, 27, 28, 29, 30, 31, 32, 33, 34, 35,\n",
       "       36, 37, 38, 39])</pre></li><li class='xr-var-item'><div class='xr-var-name'><span class='xr-has-index'>N</span></div><div class='xr-var-dims'>(N)</div><div class='xr-var-dtype'>int64</div><div class='xr-var-preview xr-preview'>0 1 2 3 4 5 6 7 8 9</div><input id='attrs-853d420c-2c5e-40c6-87bd-23045532a658' class='xr-var-attrs-in' type='checkbox' disabled><label for='attrs-853d420c-2c5e-40c6-87bd-23045532a658' title='Show/Hide attributes'><svg class='icon xr-icon-file-text2'><use xlink:href='#icon-file-text2'></use></svg></label><input id='data-bbc0d8c6-3fbd-4cca-9856-b1dad5b7b10c' class='xr-var-data-in' type='checkbox'><label for='data-bbc0d8c6-3fbd-4cca-9856-b1dad5b7b10c' title='Show/Hide data repr'><svg class='icon xr-icon-database'><use xlink:href='#icon-database'></use></svg></label><div class='xr-var-attrs'><dl class='xr-attrs'></dl></div><pre class='xr-var-data'>array([0, 1, 2, 3, 4, 5, 6, 7, 8, 9])</pre></li><li class='xr-var-item'><div class='xr-var-name'><span class='xr-has-index'>V</span></div><div class='xr-var-dims'>(V)</div><div class='xr-var-dtype'>&lt;U3</div><div class='xr-var-preview xr-preview'>&#x27;e_z&#x27; &#x27;z&#x27; &#x27;k&#x27; &#x27;n&#x27; ... &#x27;c&#x27; &#x27;rk&#x27; &#x27;w&#x27;</div><input id='attrs-adac2717-f460-4296-ad48-ac595a3a0154' class='xr-var-attrs-in' type='checkbox' disabled><label for='attrs-adac2717-f460-4296-ad48-ac595a3a0154' title='Show/Hide attributes'><svg class='icon xr-icon-file-text2'><use xlink:href='#icon-file-text2'></use></svg></label><input id='data-a102b5dc-6e98-4843-9ef6-3221e0fe5b9e' class='xr-var-data-in' type='checkbox'><label for='data-a102b5dc-6e98-4843-9ef6-3221e0fe5b9e' title='Show/Hide data repr'><svg class='icon xr-icon-database'><use xlink:href='#icon-database'></use></svg></label><div class='xr-var-attrs'><dl class='xr-attrs'></dl></div><pre class='xr-var-data'>array([&#x27;e_z&#x27;, &#x27;z&#x27;, &#x27;k&#x27;, &#x27;n&#x27;, &#x27;i&#x27;, &#x27;y&#x27;, &#x27;c&#x27;, &#x27;rk&#x27;, &#x27;w&#x27;], dtype=&#x27;&lt;U3&#x27;)</pre></li></ul></div></li><li class='xr-section-item'><input id='section-6606eac1-67bf-476c-a29f-ea9283c20d57' class='xr-section-summary-in' type='checkbox' disabled ><label for='section-6606eac1-67bf-476c-a29f-ea9283c20d57' class='xr-section-summary'  title='Expand/collapse section'>Attributes: <span>(0)</span></label><div class='xr-section-inline-details'></div><div class='xr-section-details'><dl class='xr-attrs'></dl></div></li></ul></div></div>"
      ],
      "text/plain": [
       "<xarray.DataArray (T: 40, N: 10, V: 9)>\n",
       "array([[[ 0.00000000e+00,  0.00000000e+00,  9.35497829e+00, ...,\n",
       "          7.61398778e-01,  3.50741693e-02,  2.02103089e+00],\n",
       "        [ 2.16900189e-02,  0.00000000e+00,  9.35497829e+00, ...,\n",
       "          7.61398778e-01,  3.50741693e-02,  2.02103089e+00],\n",
       "        [ 0.00000000e+00,  0.00000000e+00,  9.35497829e+00, ...,\n",
       "          7.61398778e-01,  3.50741693e-02,  2.02103089e+00],\n",
       "        ...,\n",
       "        [ 2.16900189e-02,  0.00000000e+00,  9.35497829e+00, ...,\n",
       "          7.61398778e-01,  3.50741693e-02,  2.02103089e+00],\n",
       "        [ 0.00000000e+00,  0.00000000e+00,  9.35497829e+00, ...,\n",
       "          7.61398778e-01,  3.50741693e-02,  2.02103089e+00],\n",
       "        [ 0.00000000e+00,  0.00000000e+00,  9.35497829e+00, ...,\n",
       "          7.61398778e-01,  3.50741693e-02,  2.02103089e+00]],\n",
       "\n",
       "       [[-2.16900189e-02,  0.00000000e+00,  9.35400230e+00, ...,\n",
       "          7.61384391e-01,  3.50776803e-02,  2.02093125e+00],\n",
       "        [ 2.16900189e-02,  2.16900189e-02,  9.35400230e+00, ...,\n",
       "          7.62822957e-01,  3.60682624e-02,  2.05898938e+00],\n",
       "        [ 2.16900189e-02,  0.00000000e+00,  9.35400230e+00, ...,\n",
       "          7.61384391e-01,  3.50776803e-02,  2.02093125e+00],\n",
       "        ...,\n",
       "        [ 0.00000000e+00,  2.16900189e-02,  9.35400230e+00, ...,\n",
       "          7.62822957e-01,  3.60682624e-02,  2.05898938e+00],\n",
       "        [ 0.00000000e+00,  0.00000000e+00,  9.35400230e+00, ...,\n",
       "          7.61384391e-01,  3.50776803e-02,  2.02093125e+00],\n",
       "        [ 0.00000000e+00,  0.00000000e+00,  9.35400230e+00, ...,\n",
       "          7.61384391e-01,  3.50776803e-02,  2.02093125e+00]],\n",
       "\n",
       "       [[ 0.00000000e+00, -2.16900189e-02,  9.35306089e+00, ...,\n",
       "          7.59958581e-01,  3.41148441e-02,  1.98356112e+00],\n",
       "        [-2.16900189e-02,  3.90420340e-02,  9.37970083e+00, ...,\n",
       "          7.64374529e-01,  3.67820030e-02,  2.09271518e+00],\n",
       "        [ 0.00000000e+00,  2.16900189e-02,  9.35306089e+00, ...,\n",
       "          7.62809192e-01,  3.60717286e-02,  2.05889192e+00],\n",
       "        ...,\n",
       "        [ 0.00000000e+00,  1.73520151e-02,  9.37970083e+00, ...,\n",
       "          7.62909791e-01,  3.57742049e-02,  2.05396620e+00],\n",
       "        [ 0.00000000e+00,  0.00000000e+00,  9.35306089e+00, ...,\n",
       "          7.61370512e-01,  3.50810677e-02,  2.02083514e+00],\n",
       "        [-2.16900189e-02,  0.00000000e+00,  9.35306089e+00, ...,\n",
       "          7.61370512e-01,  3.50810677e-02,  2.02083514e+00]],\n",
       "\n",
       "       ...,\n",
       "\n",
       "       [[-2.16900189e-02, -1.07439022e-03,  9.61420916e+00, ...,\n",
       "          7.65100181e-01,  3.41202851e-02,  2.04538252e+00],\n",
       "        [-2.16900189e-02,  1.40518882e-02,  9.34551078e+00, ...,\n",
       "          7.62189721e-01,  3.57475889e-02,  2.04462352e+00],\n",
       "        [-2.16900189e-02, -2.45856318e-02,  9.27466543e+00, ...,\n",
       "          7.58599962e-01,  3.42649707e-02,  1.97074028e+00],\n",
       "        ...,\n",
       "        [-2.16900189e-02, -3.32566969e-03,  9.07518640e+00, ...,\n",
       "          7.56987961e-01,  3.59598257e-02,  1.98647444e+00],\n",
       "        [ 2.16900189e-02, -4.46909134e-03,  9.14991498e+00, ...,\n",
       "          7.58044345e-01,  3.56244995e-02,  1.99225926e+00],\n",
       "        [ 0.00000000e+00, -3.56943011e-02,  9.04737363e+00, ...,\n",
       "          7.54422827e-01,  3.45998302e-02,  1.92907212e+00]],\n",
       "\n",
       "       [[-2.16900189e-02, -2.25495311e-02,  9.60281302e+00, ...,\n",
       "          7.63568665e-01,  3.32232268e-02,  2.00702789e+00],\n",
       "        [ 0.00000000e+00, -1.04485083e-02,  9.36204534e+00, ...,\n",
       "          7.60820733e-01,  3.45806083e-02,  2.00369527e+00],\n",
       "        [ 0.00000000e+00, -4.13585243e-02,  9.24721744e+00, ...,\n",
       "          7.57116396e-01,  3.36272937e-02,  1.93988298e+00],\n",
       "        ...,\n",
       "        [-2.16900189e-02, -2.43505546e-02,  9.08023430e+00, ...,\n",
       "          7.55667124e-01,  3.49847249e-02,  1.95134965e+00],\n",
       "        [ 0.00000000e+00,  1.81147458e-02,  9.15088379e+00, ...,\n",
       "          7.59578184e-01,  3.66655795e-02,  2.03152971e+00],\n",
       "        [ 2.16900189e-02, -2.85554409e-02,  9.01536523e+00, ...,\n",
       "          7.54392233e-01,  3.50390162e-02,  1.93766096e+00]],\n",
       "\n",
       "       [[ 4.57115202e-02, -3.97296437e-02,  9.56595110e+00, ...,\n",
       "          7.61963572e-01,  3.26114858e-02,  1.97420672e+00],\n",
       "        [ 0.00000000e+00, -8.35880664e-03,  9.34821961e+00, ...,\n",
       "          7.60752155e-01,  3.47230841e-02,  2.00588815e+00],\n",
       "        [ 0.00000000e+00, -3.30868194e-02,  9.20122029e+00, ...,\n",
       "          7.56944271e-01,  3.41533438e-02,  1.94902275e+00],\n",
       "        ...,\n",
       "        [ 0.00000000e+00, -4.11704626e-02,  9.06019616e+00, ...,\n",
       "          7.54268583e-01,  3.43090827e-02,  1.92133853e+00],\n",
       "        [ 0.00000000e+00,  1.44917966e-02,  9.17926823e+00, ...,\n",
       "          7.59757658e-01,  3.63878793e-02,  2.02815454e+00],\n",
       "        [ 0.00000000e+00, -1.15433383e-03,  8.99282986e+00, ...,\n",
       "          7.55875214e-01,  3.63784208e-02,  1.98159464e+00]]])\n",
       "Coordinates:\n",
       "  * T        (T) int64 0 1 2 3 4 5 6 7 8 9 10 ... 30 31 32 33 34 35 36 37 38 39\n",
       "  * N        (N) int64 0 1 2 3 4 5 6 7 8 9\n",
       "  * V        (V) <U3 'e_z' 'z' 'k' 'n' 'i' 'y' 'c' 'rk' 'w'"
      ]
     },
     "execution_count": 53,
     "metadata": {},
     "output_type": "execute_result"
    }
   ],
   "source": [
    "# mostly stateless\n",
    "\n",
    "from dolo import *\n",
    "model = yaml_import(\"examples/models/rbc_iid.yaml\")\n",
    "dr = time_iteration(model, details=False, verbose=False)\n",
    "simulate(model, dr, N=10)"
   ]
  },
  {
   "cell_type": "code",
   "execution_count": null,
   "metadata": {},
   "outputs": [],
   "source": [
    "# with some exceptions\n",
    "model.set_calibration(beta=0.96)  # (sets global flag)"
   ]
  },
  {
   "cell_type": "code",
   "execution_count": 63,
   "metadata": {},
   "outputs": [
    {
     "data": {
      "text/plain": [
       "TimeIterationResult(dr=<dolo.numeric.decision_rule.DecisionRule object at 0x7fb649ecfc90>, iterations=126, complementarities=True, dprocess=FiniteDistribution(points=array([[-0.04571152],\n",
       "       [-0.02169002],\n",
       "       [ 0.        ],\n",
       "       [ 0.02169002],\n",
       "       [ 0.04571152]]), weights=array([0.01125741, 0.22207592, 0.53333333, 0.22207592, 0.01125741]), origin=Normal(Μ=[0.],Σ=[[0.000256]])), x_converged=True, x_tol=1e-06, err=9.689385253586202e-07, log=None, trace=None)"
      ]
     },
     "execution_count": 63,
     "metadata": {},
     "output_type": "execute_result"
    }
   ],
   "source": [
    "sol = time_iteration(model, details=True, verbose=False)\n",
    "sol"
   ]
  },
  {
   "cell_type": "code",
   "execution_count": 62,
   "metadata": {},
   "outputs": [
    {
     "ename": "AttributeError",
     "evalue": "'FiniteDistribution' object has no attribute 'model'",
     "output_type": "error",
     "traceback": [
      "\u001b[0;31m---------------------------------------------------------------------------\u001b[0m",
      "\u001b[0;31mAttributeError\u001b[0m                            Traceback (most recent call last)",
      "\u001b[0;32m<ipython-input-62-e22c1fc6dbfd>\u001b[0m in \u001b[0;36m<module>\u001b[0;34m\u001b[0m\n\u001b[0;32m----> 1\u001b[0;31m \u001b[0mmodel\u001b[0m\u001b[0;34m.\u001b[0m\u001b[0mdiscretize\u001b[0m\u001b[0;34m(\u001b[0m\u001b[0;34m)\u001b[0m\u001b[0;34m[\u001b[0m\u001b[0;36m1\u001b[0m\u001b[0;34m]\u001b[0m\u001b[0;34m.\u001b[0m\u001b[0mmodel\u001b[0m\u001b[0;34m\u001b[0m\u001b[0;34m\u001b[0m\u001b[0m\n\u001b[0m",
      "\u001b[0;31mAttributeError\u001b[0m: 'FiniteDistribution' object has no attribute 'model'"
     ]
    }
   ],
   "source": [
    "model.discretize()[1]"
   ]
  },
  {
   "cell_type": "code",
   "execution_count": 57,
   "metadata": {},
   "outputs": [
    {
     "data": {
      "text/plain": [
       "FiniteDistribution(points=array([[-0.04571152],\n",
       "       [-0.02169002],\n",
       "       [ 0.        ],\n",
       "       [ 0.02169002],\n",
       "       [ 0.04571152]]), weights=array([0.01125741, 0.22207592, 0.53333333, 0.22207592, 0.01125741]), origin=Normal(Μ=[0.],Σ=[[0.000256]]))"
      ]
     },
     "execution_count": 57,
     "metadata": {},
     "output_type": "execute_result"
    }
   ],
   "source": [
    "sol.dprocess"
   ]
  },
  {
   "cell_type": "markdown",
   "metadata": {},
   "source": [
    "## Towards more separatation between pure objects and discretized ones"
   ]
  },
  {
   "cell_type": "code",
   "execution_count": 36,
   "metadata": {},
   "outputs": [
    {
     "data": {
      "text/plain": [
       "{'z': array([-0.05333333,  0.05333333]),\n",
       " 'k': array([ 4.67748915, 14.03246744])}"
      ]
     },
     "execution_count": 36,
     "metadata": {},
     "output_type": "execute_result"
    }
   ],
   "source": [
    "model.domain"
   ]
  },
  {
   "cell_type": "code",
   "execution_count": 59,
   "metadata": {},
   "outputs": [
    {
     "data": {
      "text/plain": [
       "<dolo.numeric.grids.EmptyGrid object at 0x7fb64b5c4210> × <dolo.numeric.grids.UniformCartesianGrid object at 0x7fb64b5c48d0>"
      ]
     },
     "metadata": {},
     "output_type": "display_data"
    },
    {
     "data": {
      "text/plain": [
       "FiniteDistribution(points=array([[-0.04571152],\n",
       "       [-0.02169002],\n",
       "       [ 0.        ],\n",
       "       [ 0.02169002],\n",
       "       [ 0.04571152]]), weights=array([0.01125741, 0.22207592, 0.53333333, 0.22207592, 0.01125741]), origin=Normal(Μ=[0.],Σ=[[0.000256]]))"
      ]
     },
     "metadata": {},
     "output_type": "display_data"
    }
   ],
   "source": [
    "grid, dprocess = model.discretize()\n",
    "display( grid )\n",
    "display( dprocess  )\n",
    "# model.grid will disappear but there might be a DiscretizedModel object with a pointer to its parent."
   ]
  },
  {
   "cell_type": "markdown",
   "metadata": {},
   "source": [
    "# Processes and Distributions\n",
    "\n"
   ]
  },
  {
   "cell_type": "markdown",
   "metadata": {},
   "source": [
    "Three separate concepts:\n",
    "    \n",
    "- distribution ($\\epsilon$):\n",
    "\n",
    "    - does `dist.draw(N: int)`, `dist.integrate(f)`\n",
    "\n",
    "- processes $(\\epsilon_t)_{t}$:\n",
    "\n",
    "    - does `dist.simulate()`\n",
    "\n",
    "- discretized process:\n",
    "\n",
    "    - does `dist.node(i)`, `dist.inode(i,j)`, `dist.iweight(i,j)`\n",
    "    - used to solve models\n",
    "\n",
    "With multiple inheritances, it is possible to belong to several classes: \n",
    "\n",
    "- a distribution is a process\n",
    "- a markov chain is both a discretized process and a process"
   ]
  },
  {
   "cell_type": "markdown",
   "metadata": {},
   "source": [
    "## What matters most to me:\n",
    "\n",
    "- establish stable user-facing conventions in yaml file (***)\n",
    "    - processes names must match distributions\n",
    "    - documented here: http://www.econforge.org/dolo.py/processes/\n",
    "    - solution:  align with distiributions.jl/R/rvlib for conventions\n",
    "    - a wrapper is almost certainly needed\n",
    "- define clean language API allowing for more flexibility (**) (truncations, conditional, etc.)\n",
    "- simplify development process (*)\n",
    "    - transaprent API\n",
    "    - synchronize Python API, with Dolang API\n",
    "    - less code duplication within projects (language_element decoretor @language)\n",
    "    "
   ]
  },
  {
   "cell_type": "markdown",
   "metadata": {},
   "source": [
    "## Distributions\n",
    "\n",
    "- all distributions are multi-dimensional\n",
    "    - 1d distribution is a special class\n",
    "        - with `pdf`, `cdf` function\n",
    "        - automatic equiprobable discretization\n",
    "    - they carry variable names"
   ]
  },
  {
   "cell_type": "code",
   "execution_count": 64,
   "metadata": {},
   "outputs": [],
   "source": [
    "from dolo.numeric.distribution import *"
   ]
  },
  {
   "cell_type": "code",
   "execution_count": 67,
   "metadata": {},
   "outputs": [],
   "source": [
    "dist = UNormal(μ=0, σ=0.1)"
   ]
  },
  {
   "cell_type": "code",
   "execution_count": 72,
   "metadata": {},
   "outputs": [],
   "source": [
    "from matplotlib import pyplot as plt"
   ]
  },
  {
   "cell_type": "code",
   "execution_count": 78,
   "metadata": {},
   "outputs": [],
   "source": [
    "f = lambda x: x**2\n",
    "scip = dist.integrate(f)"
   ]
  },
  {
   "cell_type": "code",
   "execution_count": 86,
   "metadata": {},
   "outputs": [],
   "source": [
    "discr = [dist.discretize(N=n).integrate(f) for n in range(1,10)]\n",
    "discr_gh = [dist.discretize(N=n, method=\"gauss-hermite\").integrate(f) for n in range(1,10)]"
   ]
  },
  {
   "cell_type": "code",
   "execution_count": 87,
   "metadata": {},
   "outputs": [
    {
     "data": {
      "text/plain": [
       "<matplotlib.collections.LineCollection at 0x7fb649513450>"
      ]
     },
     "execution_count": 87,
     "metadata": {},
     "output_type": "execute_result"
    },
    {
     "data": {
      "image/png": "[encoded data removed]",
      "text/plain": [
       "<Figure size 432x288 with 1 Axes>"
      ]
     },
     "metadata": {
      "needs_background": "light"
     },
     "output_type": "display_data"
    }
   ],
   "source": [
    "plt.plot(discr)\n",
    "plt.plot(discr_gh)\n",
    "plt.hlines(scip,*plt.xlim())"
   ]
  },
  {
   "cell_type": "code",
   "execution_count": 90,
   "metadata": {},
   "outputs": [],
   "source": [
    "import numpy as np"
   ]
  },
  {
   "cell_type": "code",
   "execution_count": 92,
   "metadata": {},
   "outputs": [],
   "source": [
    "trunc = Truncation[UNormal](dist=dist, lb=0, ub=np.Inf)"
   ]
  },
  {
   "cell_type": "code",
   "execution_count": 95,
   "metadata": {},
   "outputs": [],
   "source": [
    "dtrunc = trunc.discretize()"
   ]
  },
  {
   "cell_type": "code",
   "execution_count": 98,
   "metadata": {},
   "outputs": [
    {
     "data": {
      "text/plain": [
       "[<matplotlib.lines.Line2D at 0x7fb649a44250>]"
      ]
     },
     "execution_count": 98,
     "metadata": {},
     "output_type": "execute_result"
    },
    {
     "data": {
      "image/png": "[encoded data removed]",
      "text/plain": [
       "<Figure size 432x288 with 1 Axes>"
      ]
     },
     "metadata": {
      "needs_background": "light"
     },
     "output_type": "display_data"
    }
   ],
   "source": [
    "plt.plot(dtrunc.points.ravel(), dtrunc.weights, 'o')"
   ]
  },
  {
   "cell_type": "code",
   "execution_count": 105,
   "metadata": {},
   "outputs": [],
   "source": [
    "p = ProductDistribution([dist, trunc])"
   ]
  },
  {
   "cell_type": "code",
   "execution_count": 106,
   "metadata": {},
   "outputs": [],
   "source": [
    "pp = p.discretize()"
   ]
  },
  {
   "cell_type": "code",
   "execution_count": 107,
   "metadata": {},
   "outputs": [
    {
     "data": {
      "text/plain": [
       "[<matplotlib.lines.Line2D at 0x7fb648fd4450>]"
      ]
     },
     "execution_count": 107,
     "metadata": {},
     "output_type": "execute_result"
    },
    {
     "data": {
      "image/png": "[encoded data removed]",
      "text/plain": [
       "<Figure size 432x288 with 1 Axes>"
      ]
     },
     "metadata": {
      "needs_background": "light"
     },
     "output_type": "display_data"
    }
   ],
   "source": [
    "plt.plot(pp.points[:,0], pp.points[:,1],'o')"
   ]
  },
  {
   "cell_type": "code",
   "execution_count": 112,
   "metadata": {},
   "outputs": [],
   "source": [
    "index = Bernouilli(π=0.2)"
   ]
  },
  {
   "cell_type": "code",
   "execution_count": 115,
   "metadata": {},
   "outputs": [],
   "source": [
    "mix = Mixture(index=index, distributions={0: dist, 1: trunc})"
   ]
  },
  {
   "cell_type": "code",
   "execution_count": 118,
   "metadata": {},
   "outputs": [
    {
     "data": {
      "text/plain": [
       "array([0.00789516])"
      ]
     },
     "execution_count": 118,
     "metadata": {},
     "output_type": "execute_result"
    }
   ],
   "source": [
    "mix.discretize().integrate(f)"
   ]
  },
  {
   "cell_type": "code",
   "execution_count": 122,
   "metadata": {},
   "outputs": [
    {
     "data": {
      "text/plain": [
       "\u001b[0;31mSignature:\u001b[0m\n",
       "\u001b[0mUNormal\u001b[0m\u001b[0;34m.\u001b[0m\u001b[0msimulate\u001b[0m\u001b[0;34m(\u001b[0m\u001b[0;34m\u001b[0m\n",
       "\u001b[0;34m\u001b[0m    \u001b[0mself\u001b[0m\u001b[0;34m,\u001b[0m\u001b[0;34m\u001b[0m\n",
       "\u001b[0;34m\u001b[0m    \u001b[0mN\u001b[0m\u001b[0;34m:\u001b[0m \u001b[0mint\u001b[0m \u001b[0;34m=\u001b[0m \u001b[0;36m10\u001b[0m\u001b[0;34m,\u001b[0m\u001b[0;34m\u001b[0m\n",
       "\u001b[0;34m\u001b[0m    \u001b[0mT\u001b[0m\u001b[0;34m:\u001b[0m \u001b[0mint\u001b[0m \u001b[0;34m=\u001b[0m \u001b[0;36m100\u001b[0m\u001b[0;34m,\u001b[0m\u001b[0;34m\u001b[0m\n",
       "\u001b[0;34m\u001b[0m    \u001b[0mi0\u001b[0m\u001b[0;34m=\u001b[0m\u001b[0;32mNone\u001b[0m\u001b[0;34m,\u001b[0m\u001b[0;34m\u001b[0m\n",
       "\u001b[0;34m\u001b[0m    \u001b[0mm0\u001b[0m\u001b[0;34m=\u001b[0m\u001b[0;32mNone\u001b[0m\u001b[0;34m,\u001b[0m\u001b[0;34m\u001b[0m\n",
       "\u001b[0;34m\u001b[0m    \u001b[0mstochastic\u001b[0m\u001b[0;34m=\u001b[0m\u001b[0;32mTrue\u001b[0m\u001b[0;34m,\u001b[0m\u001b[0;34m\u001b[0m\n",
       "\u001b[0;34m\u001b[0m\u001b[0;34m)\u001b[0m \u001b[0;34m->\u001b[0m \u001b[0mxarray\u001b[0m\u001b[0;34m.\u001b[0m\u001b[0mcore\u001b[0m\u001b[0;34m.\u001b[0m\u001b[0mdataarray\u001b[0m\u001b[0;34m.\u001b[0m\u001b[0mDataArray\u001b[0m\u001b[0;34m\u001b[0m\u001b[0;34m\u001b[0m\u001b[0m\n",
       "\u001b[0;31mDocstring:\u001b[0m <no docstring>\n",
       "\u001b[0;31mFile:\u001b[0m      ~/Mobilhome/econforge/dolo/dolo/numeric/processes.py\n",
       "\u001b[0;31mType:\u001b[0m      function\n"
      ]
     },
     "metadata": {},
     "output_type": "display_data"
    }
   ],
   "source": [
    "UNormal.simulate?"
   ]
  },
  {
   "cell_type": "code",
   "execution_count": 1,
   "metadata": {},
   "outputs": [],
   "source": [
    "from dolo import *"
   ]
  },
  {
   "cell_type": "code",
   "execution_count": 2,
   "metadata": {},
   "outputs": [],
   "source": [
    "model = yaml_import(\"examples/models/rbc.yaml\")"
   ]
  },
  {
   "cell_type": "code",
   "execution_count": 126,
   "metadata": {},
   "outputs": [
    {
     "data": {
      "text/plain": [
       "<dolo.numeric.distribution.UNormal at 0x7fb64992d110>"
      ]
     },
     "execution_count": 126,
     "metadata": {},
     "output_type": "execute_result"
    }
   ],
   "source": [
    "model.exogenous"
   ]
  },
  {
   "cell_type": "code",
   "execution_count": null,
   "metadata": {},
   "outputs": [],
   "source": []
  }
 ],
 "metadata": {
  "kernelspec": {
   "display_name": "Python 3",
   "language": "python",
   "name": "python3"
  },
  "language_info": {
   "codemirror_mode": {
    "name": "ipython",
    "version": 3
   },
   "file_extension": ".py",
   "mimetype": "text/x-python",
   "name": "python",
   "nbconvert_exporter": "python",
   "pygments_lexer": "ipython3",
   "version": "3.7.6"
  }
 },
 "nbformat": 4,
 "nbformat_minor": 4
}
